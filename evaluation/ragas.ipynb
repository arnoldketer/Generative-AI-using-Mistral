{
 "cells": [
  {
   "cell_type": "code",
   "execution_count": 1,
   "metadata": {},
   "outputs": [
    {
     "name": "stderr",
     "output_type": "stream",
     "text": [
      "c:\\Users\\DELL\\anaconda3\\envs\\llmapp\\lib\\site-packages\\tqdm\\auto.py:21: TqdmWarning: IProgress not found. Please update jupyter and ipywidgets. See https://ipywidgets.readthedocs.io/en/stable/user_install.html\n",
      "  from .autonotebook import tqdm as notebook_tqdm\n"
     ]
    }
   ],
   "source": [
    "from datasets import Dataset\n",
    "import os\n",
    "from ragas import evaluate\n",
    "from ragas.metrics import faithfulness, answer_correctness"
   ]
  },
  {
   "cell_type": "markdown",
   "metadata": {},
   "source": [
    "### RAGAS GPT 4.1\n"
   ]
  },
  {
   "cell_type": "code",
   "execution_count": 14,
   "metadata": {},
   "outputs": [],
   "source": [
    "data_samples = {\n",
    "    'question': [\n",
    "        \"Ni faida zipi za parachichi kwa mjamzito?\",\n",
    "    ],\n",
    "    'answer': [\n",
    "        \"kuimarisha kinga ya mwili kudhibiti shinikizo la damu kuboresha afya ya moyo ya mama mjamzito\",\n",
    "    ],\n",
    "    'retrieved_contexts': [\n",
    "        [\n",
    "            \"Faida Ya Parachichi Kwa Mjamzito.\\n1) Kuimarisha Kinga Ya Mwili.\\nVitamini C na E kwenye parachichi husaidia kuimarisha kinga ya mwili, ambayo ni muhimu kwa mjamzito ili kuzuia magonjwa.\",\n",
    "            \"Mama mjamzito kula parachichi kwa kiasi ni bora zaidi, kwani lina kalori nyingi. Kama unakabiliwa\\nna matatizo yoyote ya kiafya au unahitaji maelekezo maalum kuhusu lishe yako wakati wa ujauzito,\\nni bora kushauriana na daktari wako au mtaalamu wa lishe.\",\n",
    "        ],\n",
    "    ],\n",
    "    'ground_truth': [\n",
    "        \"Kuimarisha Kinga Ya Mwili Kudhibiti Shinikizo La Damu Kuboresha Afya Ya Moyo\",\n",
    "    ]\n",
    "}"
   ]
  },
  {
   "cell_type": "code",
   "execution_count": 15,
   "metadata": {},
   "outputs": [
    {
     "name": "stderr",
     "output_type": "stream",
     "text": [
      "Evaluating: 100%|██████████| 2/2 [00:15<00:00,  7.75s/it]\n"
     ]
    }
   ],
   "source": [
    "dataset = Dataset.from_dict(data_samples)\n",
    "score = evaluate(dataset, metrics=[faithfulness, answer_correctness])\n",
    "df = score.to_pandas()\n",
    "df.to_csv(\"results_gpt.csv\", index=False)\n"
   ]
  },
  {
   "cell_type": "markdown",
   "metadata": {},
   "source": [
    "### RAGAS DeepSeek R1\n"
   ]
  },
  {
   "cell_type": "code",
   "execution_count": 18,
   "metadata": {},
   "outputs": [],
   "source": [
    "data_samples_deepseek = {\n",
    "    'question': [\n",
    "        \"Ni faida zipi za parachichi kwa mjamzito?\",\n",
    "    ],\n",
    "    'answer': [\n",
    "        \"1. **Kuimarisha Kinga Ya Mwili:** Vitamini C na E husaidia kuongeza nguvu za kinga ya mwili, ambayo ni muhimu kwa mjamzito kuepuka magonjwa. 2. **Kudhibiti Shinikizo La Damu:** Kiwango cha juu cha potasiamu husaidia kudhibiti shinikizo la damu, ambalo linaweza kusababisha matatizo wakati wa ujauzito. 3. **Kuboresha Afya Ya Moyo:** Mafuta ya parachichi husaidia kupunguza cholesterol mbaya na kuongeza cholesterol nzuri, hivyo kuboresha afya ya moyo. 4. **Kusaidia Kwenye Mmengenyo Wa Chakula:** Parachichi lina nyuzinyuzi nyingi, ambazo husaidia katika kumengenya chakula na kupunguza tatizo la kukosa choo, ambalo ni kawaida kwa wanawake wajawazito. 5. **Omega-3 Na Omega-6:** Fatty acids hizi zinasaidia katika maendeleo ya ubongo wa mtoto. Mjamzito anashauriwa kula parachichi kwa kiasi na kushauriana na daktari au mtaalamu wa lishe kwa maelekezo maalum.\",\n",
    "    ],\n",
    "    'retrieved_contexts': [\n",
    "        [\n",
    "            \"Faida Ya Parachichi Kwa Mjamzito.\\n1) Kuimarisha Kinga Ya Mwili.\\nVitamini C na E kwenye parachichi husaidia kuimarisha kinga ya mwili, ambayo ni muhimu kwa mjamzito ili kuzuia magonjwa.\",\n",
    "            \"Mama mjamzito kula parachichi kwa kiasi ni bora zaidi, kwani lina kalori nyingi. Kama unakabiliwa\\nna matatizo yoyote ya kiafya au unahitaji maelekezo maalum kuhusu lishe yako wakati wa ujauzito,\\nni bora kushauriana na daktari wako au mtaalamu wa lishe.\",\n",
    "        ],\n",
    "    ],\n",
    "    'ground_truth': [\n",
    "        \"Kuimarisha Kinga Ya Mwili Kudhibiti Shinikizo La Damu Kuboresha Afya Ya Moyo\",\n",
    "    ]\n",
    "}"
   ]
  },
  {
   "cell_type": "code",
   "execution_count": 19,
   "metadata": {},
   "outputs": [
    {
     "name": "stderr",
     "output_type": "stream",
     "text": [
      "Evaluating: 100%|██████████| 2/2 [00:26<00:00, 13.02s/it]\n"
     ]
    }
   ],
   "source": [
    "dataset = Dataset.from_dict(data_samples_deepseek)\n",
    "score = evaluate(dataset, metrics=[faithfulness, answer_correctness])\n",
    "df = score.to_pandas()\n",
    "df.to_csv(\"results_deepseek.csv\", index=False)"
   ]
  },
  {
   "cell_type": "markdown",
   "metadata": {},
   "source": [
    "### RAGAS Mistral\n"
   ]
  },
  {
   "cell_type": "code",
   "execution_count": 6,
   "metadata": {},
   "outputs": [],
   "source": [
    "data_samples_mistral = {\n",
    "    'question': [\n",
    "        \"Ni faida zipi za parachichi kwa mjamzito?\",\n",
    "    ],\n",
    "    'answer': [\n",
    "       \"2) Kuboresha Afya Ya Moyo.HITIMISHO:Parachichi huwezi kuboresha afya ya moyo yenye vitamini B12 na vitamini B6, ambayo ni muhimu kwa afya ya moyo.Ni bora kushauriana na daktari wako au mtaalamu wa lishe kwa kupata maelekezo maalum kuhusu lishe yako wakati wa ujauzito.3) Kudhbiti Shinikizo La Damu. HITIMISHO:Parachichi lina kiwango cha juu cha potasiamu, ambayo husaidia kudhibiti shinikizo la damu.Shinikizo la damu lisilodhibitiwalinaweza kusababisha matatizo wakati wa ujauzito.Ni bora kushauriana na daktari wako au mtaalamu wa lishe kwa kupata maelekezo maalum kuhusu lishe yako wakati wa ujauzito.\"\n",
    "    ],\n",
    "    'retrieved_contexts': [\n",
    "        [\n",
    "            \"Faida Ya Parachichi Kwa Mjamzito.\\n1) Kuimarisha Kinga Ya Mwili.\\nVitamini C na E kwenye parachichi husaidia kuimarisha kinga ya mwili, ambayo ni muhimu kwa mjamzito ili kuzuia magonjwa.\",\n",
    "            \"Mama mjamzito kula parachichi kwa kiasi ni bora zaidi, kwani lina kalori nyingi. Kama unakabiliwa\\nna matatizo yoyote ya kiafya au unahitaji maelekezo maalum kuhusu lishe yako wakati wa ujauzito,\\nni bora kushauriana na daktari wako au mtaalamu wa lishe.\",\n",
    "        ],\n",
    "    ],\n",
    "    'ground_truth': [\n",
    "        \"Kuimarisha Kinga Ya Mwili Kudhibiti Shinikizo La Damu Kuboresha Afya Ya Moyo\",\n",
    "    ]\n",
    "}"
   ]
  },
  {
   "cell_type": "code",
   "execution_count": 7,
   "metadata": {},
   "outputs": [
    {
     "name": "stderr",
     "output_type": "stream",
     "text": [
      "Evaluating: 100%|██████████| 2/2 [00:25<00:00, 12.80s/it]\n"
     ]
    }
   ],
   "source": [
    "dataset = Dataset.from_dict(data_samples_mistral)\n",
    "score = evaluate(dataset, metrics=[faithfulness, answer_correctness])\n",
    "df = score.to_pandas()\n",
    "df.to_csv(\"results_mistral.csv\", index=False)"
   ]
  },
  {
   "cell_type": "markdown",
   "metadata": {},
   "source": [
    "## Llama2\n"
   ]
  },
  {
   "cell_type": "code",
   "execution_count": 4,
   "metadata": {},
   "outputs": [],
   "source": [
    "data_samples_llama = {\n",
    "    'question': [\n",
    "        \"Ni faida zipi za parachichi kwa mjamzito?\",\n",
    "    ],\n",
    "    'answer': [\n",
    "        \"1) Kuimarisha Kinga Ya Mwili. Vitamini C na E kwenye parachichi husaidia kuimarisha kinga ya mwili, ambayo ni muhimu kwa mjamzito ili kuzuia magonjwa. 2) Kudhbiti Shinikizo La Damu. Parachichi lina kiwango cha juu cha potasiamu, ambayo husaidia kudhibiti shinikizo la damu.Shinikizo la damu lisilodhibitiwalinaweza kusababisha matatizo wakati wa ujauzito. 3) Kuboresha Afya Ya Moyo.\",\n",
    "    ],\n",
    "    'retrieved_contexts': [\n",
    "        [\n",
    "            \"Faida Ya Parachichi Kwa Mjamzito.\\n1) Kuimarisha Kinga Ya Mwili.\\nVitamini C na E kwenye parachichi husaidia kuimarisha kinga ya mwili, ambayo ni muhimu kwa mjamzito ili kuzuia magonjwa.\",\n",
    "            \"Mama mjamzito kula parachichi kwa kiasi ni bora zaidi, kwani lina kalori nyingi. Kama unakabiliwa\\nna matatizo yoyote ya kiafya au unahitaji maelekezo maalum kuhusu lishe yako wakati wa ujauzito,\\nni bora kushauriana na daktari wako au mtaalamu wa lishe.\",\n",
    "        ],\n",
    "    ],\n",
    "    'ground_truth': [\n",
    "        \"Kuimarisha Kinga Ya Mwili Kudhibiti Shinikizo La Damu Kuboresha Afya Ya Moyo\",\n",
    "    ]\n",
    "}"
   ]
  },
  {
   "cell_type": "code",
   "execution_count": 5,
   "metadata": {},
   "outputs": [
    {
     "name": "stderr",
     "output_type": "stream",
     "text": [
      "Evaluating: 100%|██████████| 2/2 [00:24<00:00, 12.03s/it]\n"
     ]
    }
   ],
   "source": [
    "dataset = Dataset.from_dict(data_samples_llama)\n",
    "score = evaluate(dataset, metrics=[faithfulness, answer_correctness])\n",
    "df = score.to_pandas()\n",
    "df.to_csv(\"results_llama.csv\", index=False)"
   ]
  },
  {
   "cell_type": "code",
   "execution_count": null,
   "metadata": {},
   "outputs": [],
   "source": []
  }
 ],
 "metadata": {
  "kernelspec": {
   "display_name": "llmapp",
   "language": "python",
   "name": "python3"
  },
  "language_info": {
   "codemirror_mode": {
    "name": "ipython",
    "version": 3
   },
   "file_extension": ".py",
   "mimetype": "text/x-python",
   "name": "python",
   "nbconvert_exporter": "python",
   "pygments_lexer": "ipython3",
   "version": "3.10.16"
  }
 },
 "nbformat": 4,
 "nbformat_minor": 2
}
