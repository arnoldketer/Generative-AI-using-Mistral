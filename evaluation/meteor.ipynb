{
 "cells": [
  {
   "cell_type": "markdown",
   "metadata": {},
   "source": [
    "METEOR: More forgiving, considers partial matches and is better for evaluating semantic similarity.\n"
   ]
  },
  {
   "cell_type": "markdown",
   "metadata": {},
   "source": [
    "### Using Mistral\n"
   ]
  },
  {
   "cell_type": "code",
   "execution_count": 1,
   "metadata": {},
   "outputs": [
    {
     "name": "stdout",
     "output_type": "stream",
     "text": [
      "Average METEOR Score: 0.0196\n"
     ]
    }
   ],
   "source": [
    "reference_responses = [\n",
    "    \"Kuimarisha Kinga Ya Mwili\",\n",
    "    \"Kudhibiti Shinikizo La Damu\",\n",
    "    \"Kuboresha Afya Ya Moyo\",\n",
    "]\n",
    "\n",
    "generated_responses_mistral = [\n",
    "    \"Parachichi lina kiwango cha juu cha potasiamu, ambayo husaidia kudhibiti shinikizo la damu. Shinikizo la damu lisilodhibitiwalinaweza kusababisha matatizo wakati wa ujauzito.\",\n",
    "    \"Mama mjamzito kula parachichi kwa kiasi ni bora zaidi, kwani lina kalori nyingi. Kama unakabiliwa na matatizo yoyote ya kiafya au unahitaji maelekezo maalum kuhusu lishe yako wakati wa ujauzito, ni bora kushauriana na daktari wako au mtaalamu wa lishe.\",\n",
    "    \"Kutumia parachichi kwa upepo ni ya kutumia kwa kiasi, lakini hakuna faida kubwa kwa mama mjamzito kwa kutumia parachichi hili kwa kiasi. Kama unakabiliwa na matatizo yoyote ya kiafya au unahitaji maelekezo maalum kuhusu lishe yako wakati wa ujauzito, ni bora kushauriana na daktari wako au mtaalamu wa lishe.\"\n",
    "]\n",
    "\n",
    "from nltk.translate.meteor_score import meteor_score\n",
    "\n",
    "\n",
    "# Compute METEOR scores after tokenizing\n",
    "meteor_scores_mistral = [\n",
    "    meteor_score([ref.lower().split()], gen.lower().split())\n",
    "    for ref, gen in zip(reference_responses, generated_responses_mistral)\n",
    "]\n",
    "\n",
    "# Average score\n",
    "avg_meteor_mistral = sum(meteor_scores_mistral) / len(meteor_scores_mistral)\n",
    "print(f\"Average METEOR Score: {avg_meteor_mistral:.4f}\")\n"
   ]
  },
  {
   "cell_type": "markdown",
   "metadata": {},
   "source": [
    "### Using GPT-4.1 Nano\n"
   ]
  },
  {
   "cell_type": "code",
   "execution_count": 2,
   "metadata": {},
   "outputs": [
    {
     "name": "stdout",
     "output_type": "stream",
     "text": [
      "Average METEOR Score: 0.9061\n"
     ]
    }
   ],
   "source": [
    "from nltk.translate.meteor_score import meteor_score\n",
    "\n",
    "reference_responses = [\n",
    "    \"Kuimarisha Kinga Ya Mwili\",\n",
    "    \"Kudhibiti Shinikizo La Damu\",\n",
    "    \"Kuboresha Afya Ya Moyo\",\n",
    "]\n",
    "\n",
    "generated_responses_gpt = [\n",
    "    \"kuimarisha kinga ya mwili\",\n",
    "    \"kudhibiti shinikizo la damu\",\n",
    "    \"kuboresha afya ya moyo ya mama mjamzito\",\n",
    "]\n",
    "\n",
    "# Compute METEOR scores after tokenizing\n",
    "meteor_scores = [\n",
    "    meteor_score([ref.lower().split()], gen.lower().split())\n",
    "    for ref, gen in zip(reference_responses, generated_responses_gpt)\n",
    "]\n",
    "\n",
    "# Average score\n",
    "avg_meteor = sum(meteor_scores) / len(meteor_scores)\n",
    "print(f\"Average METEOR Score: {avg_meteor:.4f}\")\n"
   ]
  },
  {
   "cell_type": "markdown",
   "metadata": {},
   "source": [
    "### Using Deepseek-r1\n"
   ]
  },
  {
   "cell_type": "code",
   "execution_count": 3,
   "metadata": {},
   "outputs": [
    {
     "name": "stdout",
     "output_type": "stream",
     "text": [
      "Average METEOR Score: 0.4435\n"
     ]
    }
   ],
   "source": [
    "generated_responses_deepseek = [\n",
    "    \"1. **Kuimarisha Kinga Ya Mwili:** Parachichi lina vitamini C na E, ambavyo husaidia kuongeza nguvu ya kinga ya mwili, hivyo kuwa muhimu kwa mjamzito kuzuia magonjwa.\",\n",
    "    \"2. **Kudhibiti Shinikizo La Damu:** Kiwango cha juu cha potasiamu katika parachichi husaidia kudhibiti shinikizo la damu, ambalo linaweza kuwa na matatizo wakati wa ujauzito.\",\n",
    "    \"3. **Kuboresha Afya Ya Moyo:** Parachichi pia husaidia kuboresha afya ya moyo, jambo ambalo ni muhimu kwa mjamzito.\"\n",
    "]\n",
    "# Compute METEOR scores after tokenizing\n",
    "meteor_scores = [\n",
    "    meteor_score([ref.lower().split()], gen.lower().split())\n",
    "    for ref, gen in zip(reference_responses, generated_responses_deepseek)\n",
    "]\n",
    "\n",
    "# Average score\n",
    "avg_meteor = sum(meteor_scores) / len(meteor_scores)\n",
    "print(f\"Average METEOR Score: {avg_meteor:.4f}\")\n"
   ]
  },
  {
   "cell_type": "markdown",
   "metadata": {},
   "source": [
    "### Llama2\n"
   ]
  },
  {
   "cell_type": "code",
   "execution_count": 4,
   "metadata": {},
   "outputs": [
    {
     "name": "stdout",
     "output_type": "stream",
     "text": [
      "Average METEOR Score: 0.6046\n"
     ]
    }
   ],
   "source": [
    "generated_responses_llama = [\n",
    "    \"1) Kuimarisha Kinga Ya Mwili. Vitamini C na E kwenye parachichi husaidia kuimarisha kinga ya mwili, ambayo ni muhimu kwa mjamzito ili kuzuia magonjwa.\",\n",
    "    \"2) Kudhbiti Shinikizo La Damu. Parachichi lina kiwango cha juu cha potasiamu, ambayo husaidia kudhibiti shinikizo la damu.Shinikizo la damu lisilodhibitiwalinaweza kusababisha matatizo wakati wa ujauzito.\",\n",
    "    \"3) Kuboresha Afya Ya Moyo.\"\n",
    "    ]\n",
    "# Compute METEOR scores after tokenizing\n",
    "meteor_scores = [\n",
    "    meteor_score([ref.lower().split()], gen.lower().split())\n",
    "    for ref, gen in zip(reference_responses, generated_responses_llama)\n",
    "]\n",
    "\n",
    "# Average score\n",
    "avg_meteor = sum(meteor_scores) / len(meteor_scores)\n",
    "print(f\"Average METEOR Score: {avg_meteor:.4f}\")\n"
   ]
  },
  {
   "cell_type": "code",
   "execution_count": null,
   "metadata": {},
   "outputs": [],
   "source": []
  }
 ],
 "metadata": {
  "kernelspec": {
   "display_name": "llmapp",
   "language": "python",
   "name": "python3"
  },
  "language_info": {
   "codemirror_mode": {
    "name": "ipython",
    "version": 3
   },
   "file_extension": ".py",
   "mimetype": "text/x-python",
   "name": "python",
   "nbconvert_exporter": "python",
   "pygments_lexer": "ipython3",
   "version": "3.10.16"
  }
 },
 "nbformat": 4,
 "nbformat_minor": 2
}
