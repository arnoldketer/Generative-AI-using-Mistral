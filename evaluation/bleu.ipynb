{
 "cells": [
  {
   "cell_type": "markdown",
   "metadata": {},
   "source": [
    "### BLEU WITH MISTRAL\n"
   ]
  },
  {
   "cell_type": "code",
   "execution_count": 1,
   "metadata": {},
   "outputs": [],
   "source": [
    "reference_responses = [\n",
    "    \"Kuimarisha Kinga Ya Mwili\",\n",
    "    \"Kudhibiti Shinikizo La Damu\",\n",
    "    \"Kuboresha Afya Ya Moyo\",\n",
    "]\n",
    "\n",
    "generated_responses = [\n",
    "    \"Parachichi lina kiwango cha juu cha potasiamu, ambayo husaidia kudhibiti shinikizo la damu. Shinikizo la damu lisilodhibitiwalinaweza kusababisha matatizo wakati wa ujauzito.\",\n",
    "    \"Mama mjamzito kula parachichi kwa kiasi ni bora zaidi, kwani lina kalori nyingi. Kama unakabiliwa na matatizo yoyote ya kiafya au unahitaji maelekezo maalum kuhusu lishe yako wakati wa ujauzito, ni bora kushauriana na daktari wako au mtaalamu wa lishe.\",\n",
    "    \"Kutumia parachichi kwa upepo ni ya kutumia kwa kiasi, lakini hakuna faida kubwa kwa mama mjamzito kwa kutumia parachichi hili kwa kiasi. Kama unakabiliwa na matatizo yoyote ya kiafya au unahitaji maelekezo maalum kuhusu lishe yako wakati wa ujauzito, ni bora kushauriana na daktari wako au mtaalamu wa lishe.\"\n",
    "]"
   ]
  },
  {
   "cell_type": "code",
   "execution_count": 2,
   "metadata": {},
   "outputs": [],
   "source": [
    "# !pip install nltk"
   ]
  },
  {
   "cell_type": "code",
   "execution_count": 3,
   "metadata": {},
   "outputs": [],
   "source": [
    "# Tokenize both (split by space for simplicity)\n",
    "reference_tokenized = [[ref.split()] for ref in reference_responses]\n",
    "generated_tokenized = [gen.split() for gen in generated_responses]"
   ]
  },
  {
   "cell_type": "code",
   "execution_count": 4,
   "metadata": {},
   "outputs": [
    {
     "name": "stdout",
     "output_type": "stream",
     "text": [
      "BLEU Score: 0.0000\n"
     ]
    }
   ],
   "source": [
    "from nltk.translate.bleu_score import corpus_bleu, SmoothingFunction\n",
    "# BLEU scoring with smoothing (for short sentences)\n",
    "smoothing = SmoothingFunction().method4\n",
    "bleu = corpus_bleu(reference_tokenized[:len(generated_tokenized)], generated_tokenized, smoothing_function=smoothing)\n",
    "\n",
    "print(f\"BLEU Score: {bleu:.4f}\")"
   ]
  },
  {
   "cell_type": "markdown",
   "metadata": {},
   "source": [
    "BLEU is harsh for open-ended generation\n"
   ]
  },
  {
   "cell_type": "markdown",
   "metadata": {},
   "source": [
    "### Using GPT-4.1 Nano\n"
   ]
  },
  {
   "cell_type": "code",
   "execution_count": 5,
   "metadata": {},
   "outputs": [],
   "source": [
    "generated_responses_gpt = [\n",
    "    'kuimarisha kinga ya mwili',\n",
    "    'kudhibiti shinikizo la damu',\n",
    "    'kuboresha afya ya moyo ya mama mjamzito'\n",
    "]"
   ]
  },
  {
   "cell_type": "code",
   "execution_count": 6,
   "metadata": {},
   "outputs": [
    {
     "name": "stdout",
     "output_type": "stream",
     "text": [
      "Corpus BLEU score: 0.6687\n"
     ]
    }
   ],
   "source": [
    "# Preprocessing: tokenize and lowercase\n",
    "references = [[ref.lower().split()] for ref in reference_responses]\n",
    "hypotheses = [gen.lower().split() for gen in generated_responses_gpt]\n",
    "\n",
    "# Compute BLEU score\n",
    "smoothie = SmoothingFunction().method4\n",
    "bleu_score = corpus_bleu(references, hypotheses, smoothing_function=smoothie)\n",
    "\n",
    "print(f\"Corpus BLEU score: {bleu_score:.4f}\")"
   ]
  },
  {
   "cell_type": "code",
   "execution_count": 7,
   "metadata": {},
   "outputs": [],
   "source": [
    "### Using llama 2 UlizaLlama\n",
    "generated_responses_llama = [\n",
    "    \"1) Kuimarisha Kinga Ya Mwili. Vitamini C na E kwenye parachichi husaidia kuimarisha kinga ya mwili, ambayo ni muhimu kwa mjamzito ili kuzuia magonjwa.\",\n",
    "    \"2) Kudhbiti Shinikizo La Damu. Parachichi lina kiwango cha juu cha potasiamu, ambayo husaidia kudhibiti shinikizo la damu.Shinikizo la damu lisilodhibitiwalinaweza kusababisha matatizo wakati wa ujauzito.\",\n",
    "    \"3) Kuboresha Afya Ya Moyo.\"\n",
    "    ]"
   ]
  },
  {
   "cell_type": "code",
   "execution_count": 8,
   "metadata": {},
   "outputs": [
    {
     "name": "stdout",
     "output_type": "stream",
     "text": [
      "Corpus BLEU score: 0.0601\n"
     ]
    }
   ],
   "source": [
    "# Preprocessing: tokenize and lowercase\n",
    "references = [[ref.lower().split()] for ref in reference_responses]\n",
    "hypotheses = [gen.lower().split() for gen in generated_responses_llama]\n",
    "\n",
    "# Compute BLEU score\n",
    "smoothie = SmoothingFunction().method4\n",
    "bleu_score = corpus_bleu(references, hypotheses, smoothing_function=smoothie)\n",
    "\n",
    "print(f\"Corpus BLEU score: {bleu_score:.4f}\")"
   ]
  },
  {
   "cell_type": "markdown",
   "metadata": {},
   "source": [
    "## Deepseek\n"
   ]
  },
  {
   "cell_type": "code",
   "execution_count": 9,
   "metadata": {},
   "outputs": [],
   "source": [
    "generated_responses_deepseek = [\n",
    "    \"1. **Kuimarisha Kinga Ya Mwili:** Parachichi lina vitamini C na E, ambavyo husaidia kuongeza nguvu ya kinga ya mwili, hivyo kuwa muhimu kwa mjamzito kuzuia magonjwa.\",\n",
    "    \"2. **Kudhibiti Shinikizo La Damu:** Kiwango cha juu cha potasiamu katika parachichi husaidia kudhibiti shinikizo la damu, ambalo linaweza kuwa na matatizo wakati wa ujauzito.\",\n",
    "    \"3. **Kuboresha Afya Ya Moyo:** Parachichi pia husaidia kuboresha afya ya moyo, jambo ambalo ni muhimu kwa mjamzito.\"\n",
    "]"
   ]
  },
  {
   "cell_type": "code",
   "execution_count": 10,
   "metadata": {},
   "outputs": [
    {
     "name": "stdout",
     "output_type": "stream",
     "text": [
      "Corpus BLEU score: 0.0375\n"
     ]
    }
   ],
   "source": [
    "# Preprocessing: tokenize and lowercase\n",
    "references = [[ref.lower().split()] for ref in reference_responses]\n",
    "hypotheses = [gen.lower().split() for gen in generated_responses_deepseek]\n",
    "\n",
    "# Compute BLEU score\n",
    "smoothie = SmoothingFunction().method4\n",
    "bleu_score = corpus_bleu(references, hypotheses, smoothing_function=smoothie)\n",
    "\n",
    "print(f\"Corpus BLEU score: {bleu_score:.4f}\")"
   ]
  },
  {
   "cell_type": "code",
   "execution_count": 12,
   "metadata": {},
   "outputs": [],
   "source": [
    "import pandas as pd\n",
    "\n",
    "df = pd.read_excel('scores.xlsx')"
   ]
  },
  {
   "cell_type": "code",
   "execution_count": 13,
   "metadata": {},
   "outputs": [
    {
     "data": {
      "text/html": [
       "<div>\n",
       "<style scoped>\n",
       "    .dataframe tbody tr th:only-of-type {\n",
       "        vertical-align: middle;\n",
       "    }\n",
       "\n",
       "    .dataframe tbody tr th {\n",
       "        vertical-align: top;\n",
       "    }\n",
       "\n",
       "    .dataframe thead th {\n",
       "        text-align: right;\n",
       "    }\n",
       "</style>\n",
       "<table border=\"1\" class=\"dataframe\">\n",
       "  <thead>\n",
       "    <tr style=\"text-align: right;\">\n",
       "      <th></th>\n",
       "      <th>Model</th>\n",
       "      <th>METEOR SCORE</th>\n",
       "      <th>BLEU SCORE</th>\n",
       "    </tr>\n",
       "  </thead>\n",
       "  <tbody>\n",
       "    <tr>\n",
       "      <th>0</th>\n",
       "      <td>Mistral</td>\n",
       "      <td>0.0196</td>\n",
       "      <td>0.0000</td>\n",
       "    </tr>\n",
       "    <tr>\n",
       "      <th>1</th>\n",
       "      <td>Deepseek</td>\n",
       "      <td>0.4435</td>\n",
       "      <td>0.0375</td>\n",
       "    </tr>\n",
       "    <tr>\n",
       "      <th>2</th>\n",
       "      <td>GPT-4</td>\n",
       "      <td>0.9061</td>\n",
       "      <td>0.6687</td>\n",
       "    </tr>\n",
       "    <tr>\n",
       "      <th>3</th>\n",
       "      <td>Llama2</td>\n",
       "      <td>0.6046</td>\n",
       "      <td>0.0601</td>\n",
       "    </tr>\n",
       "  </tbody>\n",
       "</table>\n",
       "</div>"
      ],
      "text/plain": [
       "      Model  METEOR SCORE  BLEU SCORE\n",
       "0   Mistral        0.0196      0.0000\n",
       "1  Deepseek        0.4435      0.0375\n",
       "2     GPT-4        0.9061      0.6687\n",
       "3    Llama2        0.6046      0.0601"
      ]
     },
     "execution_count": 13,
     "metadata": {},
     "output_type": "execute_result"
    }
   ],
   "source": [
    "df.head()"
   ]
  },
  {
   "cell_type": "code",
   "execution_count": 14,
   "metadata": {},
   "outputs": [
    {
     "data": {
      "image/png": "[encoded data removed]",
      "text/plain": [
       "<Figure size 1000x600 with 1 Axes>"
      ]
     },
     "metadata": {},
     "output_type": "display_data"
    }
   ],
   "source": [
    "import matplotlib.pyplot as plt\n",
    "\n",
    "# Set figure size\n",
    "plt.figure(figsize=(10, 6))\n",
    "\n",
    "# Plot BLEU and METEOR\n",
    "plt.plot(df[\"Model\"], df[\"BLEU SCORE\"], marker='o', label='BLEU Score')\n",
    "\n",
    "# Add titles and labels\n",
    "plt.title(\"BLEU Scores per Model\")\n",
    "plt.xlabel(\"Model\")\n",
    "plt.ylabel(\"Score\")\n",
    "plt.ylim(0, 1)  # scores range from 0 to 1\n",
    "plt.grid(True)\n",
    "plt.legend()\n",
    "\n",
    "# Show plot\n",
    "plt.tight_layout()\n",
    "plt.show()"
   ]
  },
  {
   "cell_type": "code",
   "execution_count": null,
   "metadata": {},
   "outputs": [],
   "source": []
  }
 ],
 "metadata": {
  "kernelspec": {
   "display_name": "llmapp",
   "language": "python",
   "name": "python3"
  },
  "language_info": {
   "codemirror_mode": {
    "name": "ipython",
    "version": 3
   },
   "file_extension": ".py",
   "mimetype": "text/x-python",
   "name": "python",
   "nbconvert_exporter": "python",
   "pygments_lexer": "ipython3",
   "version": "3.10.16"
  }
 },
 "nbformat": 4,
 "nbformat_minor": 2
}
